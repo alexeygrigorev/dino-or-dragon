{
 "cells": [
  {
   "cell_type": "code",
   "execution_count": null,
   "id": "8418a029",
   "metadata": {},
   "outputs": [],
   "source": [
    "!nvidia-smi"
   ]
  },
  {
   "cell_type": "code",
   "execution_count": null,
   "id": "4a32890d",
   "metadata": {},
   "outputs": [],
   "source": [
    "import random\n",
    "import uuid"
   ]
  },
  {
   "cell_type": "code",
   "execution_count": null,
   "id": "a8ae8867",
   "metadata": {},
   "outputs": [],
   "source": [
    "from IPython import display\n",
    "\n",
    "import torch\n",
    "from torch import autocast\n",
    "from diffusers import StableDiffusionPipeline\n",
    "\n",
    "import huggingface_hub"
   ]
  },
  {
   "cell_type": "markdown",
   "id": "02c77d8c",
   "metadata": {},
   "source": [
    "- Register in [Hugging Face hub](https://huggingface.co/)\n",
    "- [Accept the model license](https://huggingface.co/CompVis/stable-diffusion-v1-4) (read the license and tick the checkbox) \n",
    "- [Get the API token](https://huggingface.co/docs/hub/security-tokens)"
   ]
  },
  {
   "cell_type": "code",
   "execution_count": null,
   "id": "8682223b",
   "metadata": {},
   "outputs": [],
   "source": [
    "huggingface_hub.notebook_login()"
   ]
  },
  {
   "cell_type": "code",
   "execution_count": null,
   "id": "807b0bc2",
   "metadata": {
    "scrolled": true
   },
   "outputs": [],
   "source": [
    "pipe = StableDiffusionPipeline.from_pretrained(\n",
    "    \"CompVis/stable-diffusion-v1-4\",\n",
    "    revision=\"fp16\",\n",
    "    torch_dtype=torch.float16,\n",
    "    use_auth_token=True\n",
    ")  "
   ]
  },
  {
   "cell_type": "code",
   "execution_count": null,
   "id": "b88c09bb",
   "metadata": {},
   "outputs": [],
   "source": [
    "pipe = pipe.to(\"cuda\")"
   ]
  },
  {
   "cell_type": "markdown",
   "id": "373ca515",
   "metadata": {},
   "source": [
    "Let's generate a dataset with pictures of dragons and dinosaurs using Stable Diffusion"
   ]
  },
  {
   "cell_type": "code",
   "execution_count": null,
   "id": "f619e50d",
   "metadata": {},
   "outputs": [],
   "source": [
    "prompt_dragon = \"a picture of a dragon\"\n",
    "prompt_dino = \"a picture of a dinosaur\""
   ]
  },
  {
   "cell_type": "code",
   "execution_count": null,
   "id": "d8728d21",
   "metadata": {},
   "outputs": [],
   "source": [
    "while True:\n",
    "    if random.random() > 0.5:\n",
    "        label = 'dino'\n",
    "        prompt = prompt_dino\n",
    "    else:\n",
    "        label = 'dragon'\n",
    "        prompt = prompt_dragon\n",
    "\n",
    "    with autocast(\"cuda\"):\n",
    "        image = pipe(prompt)[\"sample\"][0] \n",
    "\n",
    "    name = str(uuid.uuid4())\n",
    "    path = f\"{label}/{name}.jpg\"\n",
    "    image.save(path)\n",
    "\n",
    "    print(f'saved to {path}')"
   ]
  },
  {
   "cell_type": "markdown",
   "id": "b7d90c76",
   "metadata": {},
   "source": [
    "Here's the code that we can use for generating rectangular (512x768) images"
   ]
  },
  {
   "cell_type": "code",
   "execution_count": null,
   "id": "17ed37c6",
   "metadata": {},
   "outputs": [],
   "source": [
    "with autocast(\"cuda\"):\n",
    "    image = pipe(prompt, height=512, width=768)[\"sample\"][0]\n",
    "    display.display(image)"
   ]
  }
 ],
 "metadata": {
  "kernelspec": {
   "display_name": "saturn (Python 3)",
   "language": "python",
   "name": "python3"
  },
  "language_info": {
   "codemirror_mode": {
    "name": "ipython",
    "version": 3
   },
   "file_extension": ".py",
   "mimetype": "text/x-python",
   "name": "python",
   "nbconvert_exporter": "python",
   "pygments_lexer": "ipython3",
   "version": "3.9.7"
  }
 },
 "nbformat": 4,
 "nbformat_minor": 5
}
